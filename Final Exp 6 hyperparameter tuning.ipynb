{
 "cells": [
  {
   "cell_type": "code",
   "execution_count": 1,
   "metadata": {
    "id": "R88isgIyybKN"
   },
   "outputs": [],
   "source": [
    "import matplotlib.pyplot as plt\n",
    "from tqdm import tqdm\n",
    "from IPython.display import clear_output\n",
    "%matplotlib inline"
   ]
  },
  {
   "cell_type": "code",
   "execution_count": 2,
   "metadata": {
    "id": "tt-H4POZ-eoY"
   },
   "outputs": [],
   "source": [
    "from math import floor\n",
    "import numpy as np\n",
    "\n",
    "def row_col_to_seq(row_col, num_cols):  #Converts state number to row_column format\n",
    "    return row_col[:,0] * num_cols + row_col[:,1]\n",
    "\n",
    "def seq_to_col_row(seq, num_cols): #Converts row_column format to state number\n",
    "    r = floor(seq / num_cols)\n",
    "    c = seq - r * num_cols\n",
    "    return np.array([[r, c]])\n",
    "\n",
    "class GridWorld:\n",
    "    \"\"\"\n",
    "    Creates a gridworld object to pass to an RL algorithm.\n",
    "    Parameters\n",
    "    ----------\n",
    "    num_rows : int\n",
    "        The number of rows in the gridworld.\n",
    "    num_cols : int\n",
    "        The number of cols in the gridworld.\n",
    "    start_state : numpy array of shape (1, 2), np.array([[row, col]])\n",
    "        The start state of the gridworld (can only be one start state)\n",
    "    goal_states : numpy arrany of shape (n, 2)\n",
    "        The goal states for the gridworld where n is the number of goal\n",
    "        states.\n",
    "    \"\"\"\n",
    "    def __init__(self, num_rows, num_cols, start_state, goal_states, wind = False):\n",
    "        self.num_rows = num_rows\n",
    "        self.num_cols = num_cols\n",
    "        self.start_state = start_state\n",
    "        self.goal_states = goal_states\n",
    "        self.obs_states = None\n",
    "        self.bad_states = None\n",
    "        self.num_bad_states = 0\n",
    "        self.p_good_trans = None\n",
    "        self.bias = None\n",
    "        self.r_step = None\n",
    "        self.r_goal = None\n",
    "        self.r_dead = None\n",
    "        self.gamma = 1 # default is no discounting\n",
    "        self.wind = wind\n",
    "\n",
    "    def add_obstructions(self, obstructed_states=None, bad_states=None, restart_states=None):\n",
    "\n",
    "        self.obs_states = obstructed_states\n",
    "        self.bad_states = bad_states\n",
    "        if bad_states is not None:\n",
    "            self.num_bad_states = bad_states.shape[0]\n",
    "        else:\n",
    "            self.num_bad_states = 0\n",
    "        self.restart_states = restart_states\n",
    "        if restart_states is not None:\n",
    "            self.num_restart_states = restart_states.shape[0]\n",
    "        else:\n",
    "            self.num_restart_states = 0\n",
    "\n",
    "    def add_transition_probability(self, p_good_transition, bias):\n",
    "\n",
    "        self.p_good_trans = p_good_transition\n",
    "        self.bias = bias\n",
    "\n",
    "    def add_rewards(self, step_reward, goal_reward, bad_state_reward=None, restart_state_reward = None):\n",
    "\n",
    "        self.r_step = step_reward\n",
    "        self.r_goal = goal_reward\n",
    "        self.r_bad = bad_state_reward\n",
    "        self.r_restart = restart_state_reward\n",
    "\n",
    "\n",
    "    def create_gridworld(self):\n",
    "\n",
    "        self.num_actions = 4\n",
    "        self.num_states = self.num_cols * self.num_rows# +1\n",
    "        self.start_state_seq = row_col_to_seq(self.start_state, self.num_cols)\n",
    "        self.goal_states_seq = row_col_to_seq(self.goal_states, self.num_cols)\n",
    "\n",
    "        # rewards structure\n",
    "        self.R = self.r_step * np.ones((self.num_states, 1))\n",
    "        #self.R[self.num_states-1] = 0\n",
    "        self.R[self.goal_states_seq] = self.r_goal\n",
    "\n",
    "        for i in range(self.num_bad_states):\n",
    "            if self.r_bad is None:\n",
    "                raise Exception(\"Bad state specified but no reward is given\")\n",
    "            bad_state = row_col_to_seq(self.bad_states[i,:].reshape(1,-1), self.num_cols)\n",
    "            #print(\"bad states\", bad_state)\n",
    "            self.R[bad_state, :] = self.r_bad\n",
    "        for i in range(self.num_restart_states):\n",
    "            if self.r_restart is None:\n",
    "                raise Exception(\"Restart state specified but no reward is given\")\n",
    "            restart_state = row_col_to_seq(self.restart_states[i,:].reshape(1,-1), self.num_cols)\n",
    "            #print(\"restart_state\", restart_state)\n",
    "            self.R[restart_state, :] = self.r_restart\n",
    "\n",
    "        # probability model\n",
    "        if self.p_good_trans == None:\n",
    "            raise Exception(\"Must assign probability and bias terms via the add_transition_probability method.\")\n",
    "\n",
    "        self.P = np.zeros((self.num_states,self.num_states,self.num_actions))\n",
    "        for action in range(self.num_actions):\n",
    "            for state in range(self.num_states):\n",
    "\n",
    "\n",
    "                # check if the state is the goal state or an obstructed state - transition to end\n",
    "                row_col = seq_to_col_row(state, self.num_cols)\n",
    "                if self.obs_states is not None:\n",
    "                    end_states = np.vstack((self.obs_states, self.goal_states))\n",
    "                else:\n",
    "                    end_states = self.goal_states\n",
    "\n",
    "                if any(np.sum(np.abs(end_states-row_col), 1) == 0):\n",
    "                    self.P[state, state, action] = 1\n",
    "\n",
    "                # else consider stochastic effects of action\n",
    "                else:\n",
    "                    for dir in range(-1,2,1):\n",
    "\n",
    "                        direction = self._get_direction(action, dir)\n",
    "                        next_state = self._get_state(state, direction)\n",
    "                        if dir == 0:\n",
    "                            prob = self.p_good_trans\n",
    "                        elif dir == -1:\n",
    "                            prob = (1 - self.p_good_trans)*(self.bias)\n",
    "                        elif dir == 1:\n",
    "                            prob = (1 - self.p_good_trans)*(1-self.bias)\n",
    "\n",
    "                        self.P[state, next_state, action] += prob\n",
    "\n",
    "                # make restart states transition back to the start state with\n",
    "                # probability 1\n",
    "                if self.restart_states is not None:\n",
    "                    if any(np.sum(np.abs(self.restart_states-row_col),1)==0):\n",
    "                        next_state = row_col_to_seq(self.start_state, self.num_cols)\n",
    "                        self.P[state,:,:] = 0\n",
    "                        self.P[state,next_state,:] = 1\n",
    "        return self\n",
    "\n",
    "    def _get_direction(self, action, direction):\n",
    "\n",
    "        left = [2,3,1,0]\n",
    "        right = [3,2,0,1]\n",
    "        if direction == 0:\n",
    "            new_direction = action\n",
    "        elif direction == -1:\n",
    "            new_direction = left[action]\n",
    "        elif direction == 1:\n",
    "            new_direction = right[action]\n",
    "        else:\n",
    "            raise Exception(\"getDir received an unspecified case\")\n",
    "        return new_direction\n",
    "\n",
    "    def _get_state(self, state, direction):\n",
    "\n",
    "        row_change = [-1,1,0,0]\n",
    "        col_change = [0,0,-1,1]\n",
    "        row_col = seq_to_col_row(state, self.num_cols)\n",
    "        row_col[0,0] += row_change[direction]\n",
    "        row_col[0,1] += col_change[direction]\n",
    "\n",
    "        # check for invalid states\n",
    "        if self.obs_states is not None:\n",
    "            if (np.any(row_col < 0) or\n",
    "                np.any(row_col[:,0] > self.num_rows-1) or\n",
    "                np.any(row_col[:,1] > self.num_cols-1) or\n",
    "                np.any(np.sum(abs(self.obs_states - row_col), 1)==0)):\n",
    "                next_state = state\n",
    "            else:\n",
    "                next_state = row_col_to_seq(row_col, self.num_cols)[0]\n",
    "        else:\n",
    "            if (np.any(row_col < 0) or\n",
    "                np.any(row_col[:,0] > self.num_rows-1) or\n",
    "                np.any(row_col[:,1] > self.num_cols-1)):\n",
    "                next_state = state\n",
    "            else:\n",
    "                next_state = row_col_to_seq(row_col, self.num_cols)[0]\n",
    "\n",
    "        return next_state\n",
    "\n",
    "    def reset(self):\n",
    "      return int(self.start_state_seq)\n",
    "\n",
    "    def step(self, state, action):\n",
    "        p, r = 0, np.random.random()\n",
    "        for next_state in range(self.num_states):\n",
    "\n",
    "            p += self.P[state, next_state, action]\n",
    "\n",
    "            if r <= p:\n",
    "                break\n",
    "\n",
    "        if(self.wind and np.random.random() < 0.4):\n",
    "\n",
    "          arr = self.P[next_state, :, 3]\n",
    "          next_next = np.where(arr == np.amax(arr))\n",
    "          next_next = next_next[0][0]\n",
    "          return next_next, self.R[next_next]\n",
    "        else:\n",
    "          return next_state, self.R[next_state]\n"
   ]
  },
  {
   "cell_type": "code",
   "execution_count": 3,
   "metadata": {
    "id": "4SDw_hA13bXa"
   },
   "outputs": [],
   "source": [
    "action_space = [0, 1, 2, 3]   #[UP, DOWN, LEFT, RIGHT]"
   ]
  },
  {
   "cell_type": "markdown",
   "metadata": {
    "id": "8k_dFMjNuiGq"
   },
   "source": [
    "### Exploration Strategies\n",
    " 1. Epsilon - greedy\n",
    " 2. Softmax"
   ]
  },
  {
   "cell_type": "code",
   "execution_count": 4,
   "metadata": {
    "id": "y-JlUkI_4ocR"
   },
   "outputs": [],
   "source": [
    "seed = 42\n",
    "rg = np.random.RandomState(seed)\n",
    "\n",
    "# Epsilon - greedy\n",
    "def choose_action_epsilon_greedy(Q, state, epsilon): #state must be an array of riw_index and column_index\n",
    "  if not Q[state[0], state[1]].any() or rg.rand() < epsilon:\n",
    "    return rg.choice(action_space, size = (1, ))[0]\n",
    "  else:\n",
    "    return np.argmax(Q[state[0], state[1]])\n",
    "\n",
    "# Softmax\n",
    "def choose_action_softmax(Q, state, tau):\n",
    "  p = [None for _ in range(len(action_space))]\n",
    "  for i in range(len(action_space)):\n",
    "    p[i] = min(np.exp((Q[state[0], state[1], i]) / tau),1000)\n",
    "  p /= np.sum(p)\n",
    "  return rg.choice(action_space, size = (1, ), p = p)[0]"
   ]
  },
  {
   "cell_type": "code",
   "execution_count": null,
   "metadata": {
    "id": "UsZP1Xqn8lUu"
   },
   "outputs": [],
   "source": []
  },
  {
   "cell_type": "markdown",
   "metadata": {
    "id": "8h7pXb4t4sXE"
   },
   "source": [
    "### SARSA Algorithm Definition\n"
   ]
  },
  {
   "cell_type": "code",
   "execution_count": 5,
   "metadata": {},
   "outputs": [],
   "source": [
    "def sarsa(gw, Q, tau0, epsilon0, alpha0, gamma0, episodes = 10000, choose_action = choose_action_softmax):\n",
    "\n",
    "  episode_rewards = np.zeros(episodes)\n",
    "  steps_to_completion = np.zeros(episodes)\n",
    "  state_visit_count = np.zeros((gw.num_rows, gw.num_cols))\n",
    "\n",
    "  parameter = tau0\n",
    "  alpha = alpha0\n",
    "  gamma = gamma0\n",
    "  if choose_action == choose_action_epsilon_greedy:\n",
    "    parameter = epsilon0\n",
    "\n",
    "  for ep in tqdm(range(episodes)):\n",
    "    tot_reward, steps = 0, 0\n",
    "\n",
    "    state = gw.reset()\n",
    "    state_rc = seq_to_col_row(state, gw.num_cols)\n",
    "    action = choose_action(Q, state_rc[0], parameter)\n",
    "    done = False\n",
    "    while not done:\n",
    "\n",
    "      if any(np.array_equal(state_rc[0], state) for state in gw.goal_states) or steps >= 100:\n",
    "        done = True\n",
    "        break\n",
    "\n",
    "      next_state, reward = gw.step(state, action)\n",
    "      next_state_rc = seq_to_col_row(next_state, gw.num_cols)\n",
    "\n",
    "      next_action = choose_action(Q, next_state_rc[0], parameter)\n",
    "      Q[state_rc[0][0], state_rc[0][1],  action] += alpha * (reward + gamma * Q[next_state_rc[0][0], next_state_rc[0][1], next_action] - Q[state_rc[0][0], state_rc[0][1],  action])\n",
    "\n",
    "      state_visit_count[state_rc[0][0], state_rc[0][1]] += 1\n",
    "      tot_reward += reward\n",
    "      steps += 1\n",
    "\n",
    "      state, state_rc, action = next_state, next_state_rc, next_action\n",
    "\n",
    "\n",
    "\n",
    "    episode_rewards[ep] = tot_reward\n",
    "    steps_to_completion[ep] = steps\n",
    "  return Q, episode_rewards, steps_to_completion"
   ]
  },
  {
   "cell_type": "code",
   "execution_count": 6,
   "metadata": {
    "id": "5o7lf26wGp-5"
   },
   "outputs": [],
   "source": [
    "# specify world parameters\n",
    "num_cols = 10\n",
    "num_rows = 10\n",
    "obstructions = np.array([[0,7],[1,1],[1,2],[1,3],[1,7],[2,1],[2,3],              #All obstruction states\n",
    "                         [2,7],[3,1],[3,3],[3,5],[4,3],[4,5],[4,7],\n",
    "                         [5,3],[5,7],[5,9],[6,3],[6,9],[7,1],[7,6],\n",
    "                         [7,7],[7,8],[7,9],[8,1],[8,5],[8,6],[9,1]])\n",
    "bad_states = np.array([[1,9],[4,2],[4,4],[7,5],[9,9]])                           #All bad states\n",
    "restart_states = np.array([[3,7],[8,2]])                                         #All restart states\n",
    "goal_states = np.array([[0,9],[2,2],[8,7]])"
   ]
  },
  {
   "cell_type": "code",
   "execution_count": 7,
   "metadata": {
    "id": "BSLT1peRGsDe"
   },
   "outputs": [],
   "source": [
    "start_state = np.array([[3, 6]])\n",
    "# create model\n",
    "gw = GridWorld(num_rows = num_rows, num_cols = num_cols, start_state = start_state, goal_states = goal_states, wind = True)\n",
    "gw.add_obstructions(obstructed_states = obstructions, bad_states = bad_states, restart_states = restart_states)\n",
    "gw.add_rewards(step_reward = - 1, goal_reward = 10, bad_state_reward = - 6, restart_state_reward = - 100)\n",
    "gw.add_transition_probability(p_good_transition = 1.0, bias = 0.5)\n",
    "env = gw.create_gridworld()"
   ]
  },
  {
   "cell_type": "code",
   "execution_count": 8,
   "metadata": {
    "colab": {
     "base_uri": "https://localhost:8080/"
    },
    "id": "iGWWNLaliRMN",
    "outputId": "2f0b710b-5c79-45c2-a157-0127c4b87cbc"
   },
   "outputs": [
    {
     "name": "stderr",
     "output_type": "stream",
     "text": [
      "  0%|                                                                                         | 0/5000 [00:00<?, ?it/s]C:\\Users\\kanni\\AppData\\Local\\Temp\\ipykernel_18308\\2297487967.py:180: DeprecationWarning: Conversion of an array with ndim > 0 to a scalar is deprecated, and will error in future. Ensure you extract a single element from your array before performing this operation. (Deprecated NumPy 1.25.)\n",
      "  return int(self.start_state_seq)\n",
      "C:\\Users\\kanni\\AppData\\Local\\Temp\\ipykernel_18308\\12305718.py:30: DeprecationWarning: Conversion of an array with ndim > 0 to a scalar is deprecated, and will error in future. Ensure you extract a single element from your array before performing this operation. (Deprecated NumPy 1.25.)\n",
      "  Q[state_rc[0][0], state_rc[0][1],  action] += alpha * (reward + gamma * Q[next_state_rc[0][0], next_state_rc[0][1], next_action] - Q[state_rc[0][0], state_rc[0][1],  action])\n",
      "C:\\Users\\kanni\\AppData\\Local\\Temp\\ipykernel_18308\\12305718.py:40: DeprecationWarning: Conversion of an array with ndim > 0 to a scalar is deprecated, and will error in future. Ensure you extract a single element from your array before performing this operation. (Deprecated NumPy 1.25.)\n",
      "  episode_rewards[ep] = tot_reward\n",
      "100%|██████████████████████████████████████████████████████████████████████████████| 5000/5000 [01:35<00:00, 52.52it/s]\n",
      "100%|██████████████████████████████████████████████████████████████████████████████| 5000/5000 [01:18<00:00, 63.71it/s]\n",
      "100%|██████████████████████████████████████████████████████████████████████████████| 5000/5000 [00:53<00:00, 93.20it/s]\n",
      "100%|█████████████████████████████████████████████████████████████████████████████| 5000/5000 [00:36<00:00, 137.71it/s]\n",
      "100%|██████████████████████████████████████████████████████████████████████████████| 5000/5000 [01:28<00:00, 56.77it/s]\n",
      "100%|█████████████████████████████████████████████████████████████████████████████| 5000/5000 [00:42<00:00, 117.89it/s]\n",
      "100%|█████████████████████████████████████████████████████████████████████████████| 5000/5000 [00:26<00:00, 189.54it/s]\n",
      "100%|██████████████████████████████████████████████████████████████████████████████| 5000/5000 [01:21<00:00, 61.31it/s]\n",
      "100%|█████████████████████████████████████████████████████████████████████████████| 5000/5000 [00:33<00:00, 149.46it/s]\n",
      "100%|█████████████████████████████████████████████████████████████████████████████| 5000/5000 [00:24<00:00, 200.17it/s]\n",
      "100%|██████████████████████████████████████████████████████████████████████████████| 5000/5000 [01:24<00:00, 59.26it/s]\n",
      "100%|█████████████████████████████████████████████████████████████████████████████| 5000/5000 [00:35<00:00, 142.33it/s]\n",
      "100%|█████████████████████████████████████████████████████████████████████████████| 5000/5000 [00:25<00:00, 196.79it/s]\n",
      "100%|██████████████████████████████████████████████████████████████████████████████| 5000/5000 [02:04<00:00, 40.27it/s]\n",
      "100%|██████████████████████████████████████████████████████████████████████████████| 5000/5000 [01:34<00:00, 52.64it/s]\n",
      "100%|██████████████████████████████████████████████████████████████████████████████| 5000/5000 [01:04<00:00, 77.52it/s]\n",
      "100%|██████████████████████████████████████████████████████████████████████████████| 5000/5000 [01:46<00:00, 46.94it/s]\n",
      "100%|██████████████████████████████████████████████████████████████████████████████| 5000/5000 [01:20<00:00, 62.46it/s]\n",
      "100%|█████████████████████████████████████████████████████████████████████████████| 5000/5000 [00:40<00:00, 124.95it/s]\n",
      "100%|██████████████████████████████████████████████████████████████████████████████| 5000/5000 [01:47<00:00, 46.31it/s]\n",
      "100%|██████████████████████████████████████████████████████████████████████████████| 5000/5000 [01:18<00:00, 63.39it/s]\n",
      "100%|█████████████████████████████████████████████████████████████████████████████| 5000/5000 [00:36<00:00, 136.82it/s]\n",
      "100%|██████████████████████████████████████████████████████████████████████████████| 5000/5000 [01:45<00:00, 47.21it/s]\n",
      "100%|██████████████████████████████████████████████████████████████████████████████| 5000/5000 [01:16<00:00, 65.06it/s]\n",
      "100%|█████████████████████████████████████████████████████████████████████████████| 5000/5000 [00:35<00:00, 142.61it/s]\n",
      "100%|██████████████████████████████████████████████████████████████████████████████| 5000/5000 [02:02<00:00, 40.70it/s]\n",
      "100%|██████████████████████████████████████████████████████████████████████████████| 5000/5000 [01:57<00:00, 42.60it/s]\n",
      "100%|██████████████████████████████████████████████████████████████████████████████| 5000/5000 [01:24<00:00, 58.95it/s]\n",
      "100%|██████████████████████████████████████████████████████████████████████████████| 5000/5000 [01:59<00:00, 41.78it/s]\n",
      "100%|██████████████████████████████████████████████████████████████████████████████| 5000/5000 [01:48<00:00, 45.87it/s]\n",
      "100%|██████████████████████████████████████████████████████████████████████████████| 5000/5000 [01:01<00:00, 81.69it/s]\n",
      "100%|██████████████████████████████████████████████████████████████████████████████| 5000/5000 [01:48<00:00, 46.08it/s]\n",
      "100%|██████████████████████████████████████████████████████████████████████████████| 5000/5000 [01:42<00:00, 48.80it/s]\n",
      "100%|██████████████████████████████████████████████████████████████████████████████| 5000/5000 [01:03<00:00, 79.21it/s]\n",
      "100%|██████████████████████████████████████████████████████████████████████████████| 5000/5000 [02:29<00:00, 33.47it/s]\n",
      "100%|██████████████████████████████████████████████████████████████████████████████| 5000/5000 [02:06<00:00, 39.37it/s]\n",
      "100%|██████████████████████████████████████████████████████████████████████████████| 5000/5000 [00:52<00:00, 94.35it/s]\n",
      "100%|██████████████████████████████████████████████████████████████████████████████| 5000/5000 [02:22<00:00, 35.03it/s]\n",
      "100%|██████████████████████████████████████████████████████████████████████████████| 5000/5000 [02:31<00:00, 32.99it/s]\n",
      "100%|██████████████████████████████████████████████████████████████████████████████| 5000/5000 [02:00<00:00, 41.46it/s]\n",
      "100%|██████████████████████████████████████████████████████████████████████████████| 5000/5000 [02:23<00:00, 34.91it/s]\n",
      "100%|██████████████████████████████████████████████████████████████████████████████| 5000/5000 [02:18<00:00, 35.98it/s]\n",
      "100%|██████████████████████████████████████████████████████████████████████████████| 5000/5000 [01:30<00:00, 55.27it/s]\n",
      "100%|██████████████████████████████████████████████████████████████████████████████| 5000/5000 [02:22<00:00, 35.02it/s]\n",
      "100%|██████████████████████████████████████████████████████████████████████████████| 5000/5000 [02:20<00:00, 35.47it/s]\n",
      "100%|██████████████████████████████████████████████████████████████████████████████| 5000/5000 [01:24<00:00, 58.93it/s]\n",
      "100%|██████████████████████████████████████████████████████████████████████████████| 5000/5000 [02:23<00:00, 34.75it/s]\n",
      "100%|██████████████████████████████████████████████████████████████████████████████| 5000/5000 [02:09<00:00, 38.67it/s]\n",
      "100%|██████████████████████████████████████████████████████████████████████████████| 5000/5000 [01:09<00:00, 71.92it/s]"
     ]
    },
    {
     "name": "stdout",
     "output_type": "stream",
     "text": [
      "1.0 0.2 1.0 -9.0674\n"
     ]
    },
    {
     "name": "stderr",
     "output_type": "stream",
     "text": [
      "\n"
     ]
    }
   ],
   "source": [
    "alpha_list = [0.01, 0.05, 0.1, 0.2]\n",
    "gamma_list = [0.8, 0.9, 1.0]\n",
    "tau_list = [1.0, 2.0, 4.0, 10.0]\n",
    "epsilon_list = [0.01, 0.05, 0.1]\n",
    "\n",
    "store_tau = []\n",
    "#store_epsilon = []\n",
    "\n",
    "#For Soft Max\n",
    "best_tau, best_tau_alpha, best_tau_gamma = tau_list[0], alpha_list[0], gamma_list[0]\n",
    "\n",
    "Q = np.zeros((gw.num_rows, gw.num_cols, len(action_space)))\n",
    "\n",
    "Q, rewards, steps = sarsa(gw, Q, best_tau, epsilon_list[0], best_tau_alpha, best_tau_gamma, episodes = 5000)\n",
    "best_tau_reward = np.mean(rewards)\n",
    "for tau in tau_list:\n",
    "  for alpha in alpha_list:\n",
    "    for gamma in gamma_list:\n",
    "      Q = np.zeros((gw.num_rows, gw.num_cols, len(action_space)))\n",
    "      Q, rewards, steps = sarsa(gw, Q, tau, epsilon_list[0], alpha, gamma, episodes = 5000)\n",
    "      store_tau.append({\"tau\" : tau, \"alpha\" : alpha, \"gamma\" : gamma, \"reward\" : np.mean(rewards)})\n",
    "      if np.mean(rewards) > best_tau_reward:\n",
    "        best_tau = tau\n",
    "        best_tau_reward = np.mean(rewards)\n",
    "        best_tau_alpha = alpha\n",
    "        best_tau_gamma = gamma\n",
    "          \n",
    "print(best_tau, best_tau_alpha, best_tau_gamma, best_tau_reward)"
   ]
  },
  {
   "cell_type": "code",
   "execution_count": 9,
   "metadata": {
    "id": "2EmPcxFmgQBH"
   },
   "outputs": [
    {
     "name": "stderr",
     "output_type": "stream",
     "text": [
      "  0%|                                                                                         | 0/5000 [00:00<?, ?it/s]C:\\Users\\kanni\\AppData\\Local\\Temp\\ipykernel_18308\\2297487967.py:180: DeprecationWarning: Conversion of an array with ndim > 0 to a scalar is deprecated, and will error in future. Ensure you extract a single element from your array before performing this operation. (Deprecated NumPy 1.25.)\n",
      "  return int(self.start_state_seq)\n",
      "C:\\Users\\kanni\\AppData\\Local\\Temp\\ipykernel_18308\\12305718.py:30: DeprecationWarning: Conversion of an array with ndim > 0 to a scalar is deprecated, and will error in future. Ensure you extract a single element from your array before performing this operation. (Deprecated NumPy 1.25.)\n",
      "  Q[state_rc[0][0], state_rc[0][1],  action] += alpha * (reward + gamma * Q[next_state_rc[0][0], next_state_rc[0][1], next_action] - Q[state_rc[0][0], state_rc[0][1],  action])\n",
      "C:\\Users\\kanni\\AppData\\Local\\Temp\\ipykernel_18308\\12305718.py:40: DeprecationWarning: Conversion of an array with ndim > 0 to a scalar is deprecated, and will error in future. Ensure you extract a single element from your array before performing this operation. (Deprecated NumPy 1.25.)\n",
      "  episode_rewards[ep] = tot_reward\n",
      "100%|█████████████████████████████████████████████████████████████████████████████| 5000/5000 [00:21<00:00, 230.99it/s]\n",
      "100%|█████████████████████████████████████████████████████████████████████████████| 5000/5000 [00:23<00:00, 213.97it/s]\n",
      "100%|█████████████████████████████████████████████████████████████████████████████| 5000/5000 [00:24<00:00, 200.79it/s]\n",
      "100%|█████████████████████████████████████████████████████████████████████████████| 5000/5000 [00:27<00:00, 180.97it/s]\n",
      "100%|█████████████████████████████████████████████████████████████████████████████| 5000/5000 [00:15<00:00, 318.62it/s]\n",
      "100%|█████████████████████████████████████████████████████████████████████████████| 5000/5000 [00:16<00:00, 299.76it/s]\n",
      "100%|█████████████████████████████████████████████████████████████████████████████| 5000/5000 [00:15<00:00, 321.56it/s]\n",
      "100%|█████████████████████████████████████████████████████████████████████████████| 5000/5000 [00:17<00:00, 282.81it/s]\n",
      "100%|█████████████████████████████████████████████████████████████████████████████| 5000/5000 [00:14<00:00, 338.24it/s]\n",
      "100%|█████████████████████████████████████████████████████████████████████████████| 5000/5000 [00:13<00:00, 370.38it/s]\n",
      "100%|█████████████████████████████████████████████████████████████████████████████| 5000/5000 [00:16<00:00, 309.03it/s]\n",
      "100%|█████████████████████████████████████████████████████████████████████████████| 5000/5000 [00:17<00:00, 292.53it/s]\n",
      "100%|█████████████████████████████████████████████████████████████████████████████| 5000/5000 [00:17<00:00, 287.25it/s]\n",
      "100%|█████████████████████████████████████████████████████████████████████████████| 5000/5000 [00:25<00:00, 194.25it/s]\n",
      "100%|█████████████████████████████████████████████████████████████████████████████| 5000/5000 [00:26<00:00, 191.93it/s]\n",
      "100%|█████████████████████████████████████████████████████████████████████████████| 5000/5000 [00:22<00:00, 220.28it/s]\n",
      "100%|█████████████████████████████████████████████████████████████████████████████| 5000/5000 [00:21<00:00, 233.55it/s]\n",
      "100%|█████████████████████████████████████████████████████████████████████████████| 5000/5000 [00:17<00:00, 290.23it/s]\n",
      "100%|█████████████████████████████████████████████████████████████████████████████| 5000/5000 [00:15<00:00, 318.09it/s]\n",
      "100%|█████████████████████████████████████████████████████████████████████████████| 5000/5000 [00:19<00:00, 261.84it/s]\n",
      "100%|█████████████████████████████████████████████████████████████████████████████| 5000/5000 [00:17<00:00, 278.98it/s]\n",
      "100%|█████████████████████████████████████████████████████████████████████████████| 5000/5000 [00:14<00:00, 334.96it/s]\n",
      "100%|█████████████████████████████████████████████████████████████████████████████| 5000/5000 [00:18<00:00, 271.28it/s]\n",
      "100%|█████████████████████████████████████████████████████████████████████████████| 5000/5000 [00:15<00:00, 324.39it/s]\n",
      "100%|█████████████████████████████████████████████████████████████████████████████| 5000/5000 [00:15<00:00, 325.95it/s]\n",
      "100%|█████████████████████████████████████████████████████████████████████████████| 5000/5000 [00:32<00:00, 155.23it/s]\n",
      "100%|█████████████████████████████████████████████████████████████████████████████| 5000/5000 [00:27<00:00, 182.24it/s]\n",
      "100%|█████████████████████████████████████████████████████████████████████████████| 5000/5000 [00:24<00:00, 204.26it/s]\n",
      "100%|█████████████████████████████████████████████████████████████████████████████| 5000/5000 [00:22<00:00, 219.16it/s]\n",
      "100%|█████████████████████████████████████████████████████████████████████████████| 5000/5000 [00:18<00:00, 265.41it/s]\n",
      "100%|█████████████████████████████████████████████████████████████████████████████| 5000/5000 [00:16<00:00, 295.42it/s]\n",
      "100%|█████████████████████████████████████████████████████████████████████████████| 5000/5000 [00:21<00:00, 237.08it/s]\n",
      "100%|█████████████████████████████████████████████████████████████████████████████| 5000/5000 [00:16<00:00, 310.74it/s]\n",
      "100%|█████████████████████████████████████████████████████████████████████████████| 5000/5000 [00:15<00:00, 319.74it/s]\n",
      "100%|█████████████████████████████████████████████████████████████████████████████| 5000/5000 [00:20<00:00, 241.11it/s]\n",
      "100%|█████████████████████████████████████████████████████████████████████████████| 5000/5000 [00:19<00:00, 262.37it/s]\n",
      "100%|█████████████████████████████████████████████████████████████████████████████| 5000/5000 [00:18<00:00, 267.48it/s]"
     ]
    },
    {
     "name": "stdout",
     "output_type": "stream",
     "text": [
      "0.01 0.1 1.0 -6.6472\n"
     ]
    },
    {
     "name": "stderr",
     "output_type": "stream",
     "text": [
      "\n"
     ]
    }
   ],
   "source": [
    "alpha_list = [0.01, 0.05, 0.1, 0.2]\n",
    "gamma_list = [0.8, 0.9, 1.0]\n",
    "tau_list = [1.0, 2.0, 4.0, 10.0]\n",
    "epsilon_list = [0.01, 0.05, 0.1]\n",
    "\n",
    "#store_tau = []\n",
    "store_epsilon = []\n",
    "\n",
    "# For Epsilon Greedy\n",
    "best_epsilon, best_epsilon_alpha, best_epsilon_gamma = epsilon_list[0], alpha_list[0], gamma_list[0]\n",
    "\n",
    "Q = np.zeros((gw.num_rows, gw.num_cols, len(action_space)))\n",
    "\n",
    "Q, rewards, steps = sarsa(gw, Q, tau_list[0], best_epsilon, best_epsilon_alpha, best_epsilon_gamma, episodes = 5000, choose_action = choose_action_epsilon_greedy)\n",
    "best_epsilon_reward = np.mean(rewards)\n",
    "for epsilon in epsilon_list:\n",
    "  for alpha in alpha_list:\n",
    "    for gamma in gamma_list:\n",
    "      Q = np.zeros((gw.num_rows, gw.num_cols, len(action_space)))\n",
    "      Q, rewards, steps = sarsa(gw, Q, tau_list[0], epsilon, alpha, gamma, episodes = 5000, choose_action = choose_action_epsilon_greedy)\n",
    "      store_epsilon.append({\"epsilon\" : epsilon, \"alpha\" : alpha, \"gamma\" : gamma, \"reward\" : np.mean(rewards)})\n",
    "      if np.mean(rewards) > best_epsilon_reward:\n",
    "        best_epsilon = epsilon\n",
    "        best_epsilon_reward = np.mean(rewards)\n",
    "        best_epsilon_alpha = alpha\n",
    "        best_epsilon_gamma = gamma\n",
    "          \n",
    "print(best_epsilon, best_epsilon_alpha, best_epsilon_gamma, best_epsilon_reward)"
   ]
  },
  {
   "cell_type": "code",
   "execution_count": 16,
   "metadata": {},
   "outputs": [
    {
     "name": "stdout",
     "output_type": "stream",
     "text": [
      "[{'tau': 1.0, 'alpha': 0.01, 'gamma': 0.8, 'reward': -64.1378}, {'tau': 1.0, 'alpha': 0.01, 'gamma': 0.9, 'reward': -42.2326}, {'tau': 1.0, 'alpha': 0.01, 'gamma': 1.0, 'reward': -25.8606}, {'tau': 1.0, 'alpha': 0.05, 'gamma': 0.8, 'reward': -59.1638}, {'tau': 1.0, 'alpha': 0.05, 'gamma': 0.9, 'reward': -21.4152}, {'tau': 1.0, 'alpha': 0.05, 'gamma': 1.0, 'reward': -11.9034}, {'tau': 1.0, 'alpha': 0.1, 'gamma': 0.8, 'reward': -57.7416}, {'tau': 1.0, 'alpha': 0.1, 'gamma': 0.9, 'reward': -17.3304}, {'tau': 1.0, 'alpha': 0.1, 'gamma': 1.0, 'reward': -10.1398}, {'tau': 1.0, 'alpha': 0.2, 'gamma': 0.8, 'reward': -56.1944}, {'tau': 1.0, 'alpha': 0.2, 'gamma': 0.9, 'reward': -16.4588}, {'tau': 1.0, 'alpha': 0.2, 'gamma': 1.0, 'reward': -9.0674}, {'tau': 2.0, 'alpha': 0.01, 'gamma': 0.8, 'reward': -73.6488}, {'tau': 2.0, 'alpha': 0.01, 'gamma': 0.9, 'reward': -61.837}, {'tau': 2.0, 'alpha': 0.01, 'gamma': 1.0, 'reward': -42.7424}, {'tau': 2.0, 'alpha': 0.05, 'gamma': 0.8, 'reward': -67.147}, {'tau': 2.0, 'alpha': 0.05, 'gamma': 0.9, 'reward': -48.1582}, {'tau': 2.0, 'alpha': 0.05, 'gamma': 1.0, 'reward': -19.6886}, {'tau': 2.0, 'alpha': 0.1, 'gamma': 0.8, 'reward': -66.795}, {'tau': 2.0, 'alpha': 0.1, 'gamma': 0.9, 'reward': -46.6656}, {'tau': 2.0, 'alpha': 0.1, 'gamma': 1.0, 'reward': -16.5546}, {'tau': 2.0, 'alpha': 0.2, 'gamma': 0.8, 'reward': -64.9744}, {'tau': 2.0, 'alpha': 0.2, 'gamma': 0.9, 'reward': -44.6246}, {'tau': 2.0, 'alpha': 0.2, 'gamma': 1.0, 'reward': -14.3042}, {'tau': 4.0, 'alpha': 0.01, 'gamma': 0.8, 'reward': -83.3134}, {'tau': 4.0, 'alpha': 0.01, 'gamma': 0.9, 'reward': -78.2994}, {'tau': 4.0, 'alpha': 0.01, 'gamma': 1.0, 'reward': -61.0082}, {'tau': 4.0, 'alpha': 0.05, 'gamma': 0.8, 'reward': -75.2812}, {'tau': 4.0, 'alpha': 0.05, 'gamma': 0.9, 'reward': -67.2672}, {'tau': 4.0, 'alpha': 0.05, 'gamma': 1.0, 'reward': -31.2818}, {'tau': 4.0, 'alpha': 0.1, 'gamma': 0.8, 'reward': -73.6004}, {'tau': 4.0, 'alpha': 0.1, 'gamma': 0.9, 'reward': -66.2334}, {'tau': 4.0, 'alpha': 0.1, 'gamma': 1.0, 'reward': -25.922}, {'tau': 4.0, 'alpha': 0.2, 'gamma': 0.8, 'reward': -73.0588}, {'tau': 4.0, 'alpha': 0.2, 'gamma': 0.9, 'reward': -65.2294}, {'tau': 4.0, 'alpha': 0.2, 'gamma': 1.0, 'reward': -23.1816}, {'tau': 10.0, 'alpha': 0.01, 'gamma': 0.8, 'reward': -100.0296}, {'tau': 10.0, 'alpha': 0.01, 'gamma': 0.9, 'reward': -98.7252}, {'tau': 10.0, 'alpha': 0.01, 'gamma': 1.0, 'reward': -90.2496}, {'tau': 10.0, 'alpha': 0.05, 'gamma': 0.8, 'reward': -87.349}, {'tau': 10.0, 'alpha': 0.05, 'gamma': 0.9, 'reward': -83.1084}, {'tau': 10.0, 'alpha': 0.05, 'gamma': 1.0, 'reward': -52.6658}, {'tau': 10.0, 'alpha': 0.1, 'gamma': 0.8, 'reward': -84.7324}, {'tau': 10.0, 'alpha': 0.1, 'gamma': 0.9, 'reward': -81.4942}, {'tau': 10.0, 'alpha': 0.1, 'gamma': 1.0, 'reward': -44.5288}, {'tau': 10.0, 'alpha': 0.2, 'gamma': 0.8, 'reward': -83.1784}, {'tau': 10.0, 'alpha': 0.2, 'gamma': 0.9, 'reward': -79.4064}, {'tau': 10.0, 'alpha': 0.2, 'gamma': 1.0, 'reward': -39.5116}]\n"
     ]
    }
   ],
   "source": [
    "print(store_tau)"
   ]
  },
  {
   "cell_type": "code",
   "execution_count": 10,
   "metadata": {},
   "outputs": [
    {
     "name": "stdout",
     "output_type": "stream",
     "text": [
      "[{'epsilon': 0.01, 'alpha': 0.01, 'gamma': 0.8, 'reward': -18.8464}, {'epsilon': 0.01, 'alpha': 0.01, 'gamma': 0.9, 'reward': -17.4996}, {'epsilon': 0.01, 'alpha': 0.01, 'gamma': 1.0, 'reward': -16.6284}, {'epsilon': 0.01, 'alpha': 0.05, 'gamma': 0.8, 'reward': -8.3174}, {'epsilon': 0.01, 'alpha': 0.05, 'gamma': 0.9, 'reward': -8.0538}, {'epsilon': 0.01, 'alpha': 0.05, 'gamma': 1.0, 'reward': -7.3972}, {'epsilon': 0.01, 'alpha': 0.1, 'gamma': 0.8, 'reward': -11.0382}, {'epsilon': 0.01, 'alpha': 0.1, 'gamma': 0.9, 'reward': -8.1384}, {'epsilon': 0.01, 'alpha': 0.1, 'gamma': 1.0, 'reward': -6.6472}, {'epsilon': 0.01, 'alpha': 0.2, 'gamma': 0.8, 'reward': -10.1316}, {'epsilon': 0.01, 'alpha': 0.2, 'gamma': 0.9, 'reward': -11.8014}, {'epsilon': 0.01, 'alpha': 0.2, 'gamma': 1.0, 'reward': -11.4278}, {'epsilon': 0.05, 'alpha': 0.01, 'gamma': 0.8, 'reward': -23.7538}, {'epsilon': 0.05, 'alpha': 0.01, 'gamma': 0.9, 'reward': -21.945}, {'epsilon': 0.05, 'alpha': 0.01, 'gamma': 1.0, 'reward': -21.4512}, {'epsilon': 0.05, 'alpha': 0.05, 'gamma': 0.8, 'reward': -19.5358}, {'epsilon': 0.05, 'alpha': 0.05, 'gamma': 0.9, 'reward': -14.8136}, {'epsilon': 0.05, 'alpha': 0.05, 'gamma': 1.0, 'reward': -12.6602}, {'epsilon': 0.05, 'alpha': 0.1, 'gamma': 0.8, 'reward': -17.6962}, {'epsilon': 0.05, 'alpha': 0.1, 'gamma': 0.9, 'reward': -14.8066}, {'epsilon': 0.05, 'alpha': 0.1, 'gamma': 1.0, 'reward': -11.0724}, {'epsilon': 0.05, 'alpha': 0.2, 'gamma': 0.8, 'reward': -16.667}, {'epsilon': 0.05, 'alpha': 0.2, 'gamma': 0.9, 'reward': -13.3738}, {'epsilon': 0.05, 'alpha': 0.2, 'gamma': 1.0, 'reward': -12.5324}, {'epsilon': 0.1, 'alpha': 0.01, 'gamma': 0.8, 'reward': -37.2866}, {'epsilon': 0.1, 'alpha': 0.01, 'gamma': 0.9, 'reward': -30.0332}, {'epsilon': 0.1, 'alpha': 0.01, 'gamma': 1.0, 'reward': -28.4648}, {'epsilon': 0.1, 'alpha': 0.05, 'gamma': 0.8, 'reward': -21.9224}, {'epsilon': 0.1, 'alpha': 0.05, 'gamma': 0.9, 'reward': -18.8862}, {'epsilon': 0.1, 'alpha': 0.05, 'gamma': 1.0, 'reward': -16.6756}, {'epsilon': 0.1, 'alpha': 0.1, 'gamma': 0.8, 'reward': -25.3242}, {'epsilon': 0.1, 'alpha': 0.1, 'gamma': 0.9, 'reward': -18.041}, {'epsilon': 0.1, 'alpha': 0.1, 'gamma': 1.0, 'reward': -17.3196}, {'epsilon': 0.1, 'alpha': 0.2, 'gamma': 0.8, 'reward': -21.4338}, {'epsilon': 0.1, 'alpha': 0.2, 'gamma': 0.9, 'reward': -20.3098}, {'epsilon': 0.1, 'alpha': 0.2, 'gamma': 1.0, 'reward': -16.4134}]\n"
     ]
    }
   ],
   "source": [
    "print(store_epsilon)"
   ]
  },
  {
   "cell_type": "code",
   "execution_count": 11,
   "metadata": {},
   "outputs": [],
   "source": [
    "import pandas as pd"
   ]
  },
  {
   "cell_type": "code",
   "execution_count": 12,
   "metadata": {},
   "outputs": [],
   "source": [
    "epsilon_store = [None for _ in range(len(store_epsilon))]\n",
    "alpha_epsilon_store = [None for _ in range(len(store_epsilon))]\n",
    "gamma_epsilon_store = [None for _ in range(len(store_epsilon))]\n",
    "reward_epsilon_store = [None for _ in range(len(store_epsilon))]\n",
    "for i in range(len(store_epsilon)):\n",
    "    epsilon_store[i] = store_epsilon[i]['epsilon']\n",
    "    alpha_epsilon_store[i] = store_epsilon[i]['alpha']\n",
    "    gamma_epsilon_store[i] = store_epsilon[i]['gamma']\n",
    "    reward_epsilon_store[i] = store_epsilon[i]['reward']"
   ]
  },
  {
   "cell_type": "code",
   "execution_count": 13,
   "metadata": {},
   "outputs": [],
   "source": [
    "EXP_6_epsilon = pd.DataFrame({'Epsilon' : epsilon_store, 'Alpha' : alpha_epsilon_store, 'Gamma' : gamma_epsilon_store, 'Reward' : reward_epsilon_store})\n",
    "EXP_6_epsilon.to_csv(\"EXP_6_epsilon.csv\", index = False)"
   ]
  },
  {
   "cell_type": "code",
   "execution_count": 14,
   "metadata": {},
   "outputs": [],
   "source": [
    "tau_store = [None for _ in range(len(store_tau))]\n",
    "alpha_tau_store = [None for _ in range(len(store_tau))]\n",
    "gamma_tau_store = [None for _ in range(len(store_tau))]\n",
    "reward_tau_store = [None for _ in range(len(store_tau))]\n",
    "for i in range(len(store_tau)):\n",
    "    tau_store[i] = store_tau[i]['tau']\n",
    "    alpha_tau_store[i] = store_tau[i]['alpha']\n",
    "    gamma_tau_store[i] = store_tau[i]['gamma']\n",
    "    reward_tau_store[i] = store_tau[i]['reward']"
   ]
  },
  {
   "cell_type": "code",
   "execution_count": 15,
   "metadata": {},
   "outputs": [],
   "source": [
    "EXP_6_tau = pd.DataFrame({'Tau' : tau_store, 'Alpha' : alpha_tau_store, 'Gamma' : gamma_tau_store, 'Reward' : reward_tau_store})\n",
    "EXP_6_tau.to_csv(\"EXP_6_tau.csv\", index = False)"
   ]
  }
 ],
 "metadata": {
  "colab": {
   "provenance": []
  },
  "kernelspec": {
   "display_name": "Python 3 (ipykernel)",
   "language": "python",
   "name": "python3"
  },
  "language_info": {
   "codemirror_mode": {
    "name": "ipython",
    "version": 3
   },
   "file_extension": ".py",
   "mimetype": "text/x-python",
   "name": "python",
   "nbconvert_exporter": "python",
   "pygments_lexer": "ipython3",
   "version": "3.10.5"
  }
 },
 "nbformat": 4,
 "nbformat_minor": 4
}
