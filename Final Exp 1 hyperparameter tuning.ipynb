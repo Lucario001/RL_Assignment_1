{
 "cells": [
  {
   "cell_type": "code",
   "execution_count": 1,
   "metadata": {
    "id": "R88isgIyybKN"
   },
   "outputs": [],
   "source": [
    "import matplotlib.pyplot as plt\n",
    "from tqdm import tqdm\n",
    "from IPython.display import clear_output\n",
    "%matplotlib inline"
   ]
  },
  {
   "cell_type": "code",
   "execution_count": 2,
   "metadata": {
    "id": "tt-H4POZ-eoY"
   },
   "outputs": [],
   "source": [
    "from math import floor\n",
    "import numpy as np\n",
    "\n",
    "def row_col_to_seq(row_col, num_cols):  #Converts state number to row_column format\n",
    "    return row_col[:,0] * num_cols + row_col[:,1]\n",
    "\n",
    "def seq_to_col_row(seq, num_cols): #Converts row_column format to state number\n",
    "    r = floor(seq / num_cols)\n",
    "    c = seq - r * num_cols\n",
    "    return np.array([[r, c]])\n",
    "\n",
    "class GridWorld:\n",
    "    \"\"\"\n",
    "    Creates a gridworld object to pass to an RL algorithm.\n",
    "    Parameters\n",
    "    ----------\n",
    "    num_rows : int\n",
    "        The number of rows in the gridworld.\n",
    "    num_cols : int\n",
    "        The number of cols in the gridworld.\n",
    "    start_state : numpy array of shape (1, 2), np.array([[row, col]])\n",
    "        The start state of the gridworld (can only be one start state)\n",
    "    goal_states : numpy arrany of shape (n, 2)\n",
    "        The goal states for the gridworld where n is the number of goal\n",
    "        states.\n",
    "    \"\"\"\n",
    "    def __init__(self, num_rows, num_cols, start_state, goal_states, wind = False):\n",
    "        self.num_rows = num_rows\n",
    "        self.num_cols = num_cols\n",
    "        self.start_state = start_state\n",
    "        self.goal_states = goal_states\n",
    "        self.obs_states = None\n",
    "        self.bad_states = None\n",
    "        self.num_bad_states = 0\n",
    "        self.p_good_trans = None\n",
    "        self.bias = None\n",
    "        self.r_step = None\n",
    "        self.r_goal = None\n",
    "        self.r_dead = None\n",
    "        self.gamma = 1 # default is no discounting\n",
    "        self.wind = wind\n",
    "\n",
    "    def add_obstructions(self, obstructed_states=None, bad_states=None, restart_states=None):\n",
    "\n",
    "        self.obs_states = obstructed_states\n",
    "        self.bad_states = bad_states\n",
    "        if bad_states is not None:\n",
    "            self.num_bad_states = bad_states.shape[0]\n",
    "        else:\n",
    "            self.num_bad_states = 0\n",
    "        self.restart_states = restart_states\n",
    "        if restart_states is not None:\n",
    "            self.num_restart_states = restart_states.shape[0]\n",
    "        else:\n",
    "            self.num_restart_states = 0\n",
    "\n",
    "    def add_transition_probability(self, p_good_transition, bias):\n",
    "\n",
    "        self.p_good_trans = p_good_transition\n",
    "        self.bias = bias\n",
    "\n",
    "    def add_rewards(self, step_reward, goal_reward, bad_state_reward=None, restart_state_reward = None):\n",
    "\n",
    "        self.r_step = step_reward\n",
    "        self.r_goal = goal_reward\n",
    "        self.r_bad = bad_state_reward\n",
    "        self.r_restart = restart_state_reward\n",
    "\n",
    "\n",
    "    def create_gridworld(self):\n",
    "\n",
    "        self.num_actions = 4\n",
    "        self.num_states = self.num_cols * self.num_rows# +1\n",
    "        self.start_state_seq = row_col_to_seq(self.start_state, self.num_cols)\n",
    "        self.goal_states_seq = row_col_to_seq(self.goal_states, self.num_cols)\n",
    "\n",
    "        # rewards structure\n",
    "        self.R = self.r_step * np.ones((self.num_states, 1))\n",
    "        #self.R[self.num_states-1] = 0\n",
    "        self.R[self.goal_states_seq] = self.r_goal\n",
    "\n",
    "        for i in range(self.num_bad_states):\n",
    "            if self.r_bad is None:\n",
    "                raise Exception(\"Bad state specified but no reward is given\")\n",
    "            bad_state = row_col_to_seq(self.bad_states[i,:].reshape(1,-1), self.num_cols)\n",
    "            #print(\"bad states\", bad_state)\n",
    "            self.R[bad_state, :] = self.r_bad\n",
    "        for i in range(self.num_restart_states):\n",
    "            if self.r_restart is None:\n",
    "                raise Exception(\"Restart state specified but no reward is given\")\n",
    "            restart_state = row_col_to_seq(self.restart_states[i,:].reshape(1,-1), self.num_cols)\n",
    "            #print(\"restart_state\", restart_state)\n",
    "            self.R[restart_state, :] = self.r_restart\n",
    "\n",
    "        # probability model\n",
    "        if self.p_good_trans == None:\n",
    "            raise Exception(\"Must assign probability and bias terms via the add_transition_probability method.\")\n",
    "\n",
    "        self.P = np.zeros((self.num_states,self.num_states,self.num_actions))\n",
    "        for action in range(self.num_actions):\n",
    "            for state in range(self.num_states):\n",
    "\n",
    "\n",
    "                # check if the state is the goal state or an obstructed state - transition to end\n",
    "                row_col = seq_to_col_row(state, self.num_cols)\n",
    "                if self.obs_states is not None:\n",
    "                    end_states = np.vstack((self.obs_states, self.goal_states))\n",
    "                else:\n",
    "                    end_states = self.goal_states\n",
    "\n",
    "                if any(np.sum(np.abs(end_states-row_col), 1) == 0):\n",
    "                    self.P[state, state, action] = 1\n",
    "\n",
    "                # else consider stochastic effects of action\n",
    "                else:\n",
    "                    for dir in range(-1,2,1):\n",
    "\n",
    "                        direction = self._get_direction(action, dir)\n",
    "                        next_state = self._get_state(state, direction)\n",
    "                        if dir == 0:\n",
    "                            prob = self.p_good_trans\n",
    "                        elif dir == -1:\n",
    "                            prob = (1 - self.p_good_trans)*(self.bias)\n",
    "                        elif dir == 1:\n",
    "                            prob = (1 - self.p_good_trans)*(1-self.bias)\n",
    "\n",
    "                        self.P[state, next_state, action] += prob\n",
    "\n",
    "                # make restart states transition back to the start state with\n",
    "                # probability 1\n",
    "                if self.restart_states is not None:\n",
    "                    if any(np.sum(np.abs(self.restart_states-row_col),1)==0):\n",
    "                        next_state = row_col_to_seq(self.start_state, self.num_cols)\n",
    "                        self.P[state,:,:] = 0\n",
    "                        self.P[state,next_state,:] = 1\n",
    "        return self\n",
    "\n",
    "    def _get_direction(self, action, direction):\n",
    "\n",
    "        left = [2,3,1,0]\n",
    "        right = [3,2,0,1]\n",
    "        if direction == 0:\n",
    "            new_direction = action\n",
    "        elif direction == -1:\n",
    "            new_direction = left[action]\n",
    "        elif direction == 1:\n",
    "            new_direction = right[action]\n",
    "        else:\n",
    "            raise Exception(\"getDir received an unspecified case\")\n",
    "        return new_direction\n",
    "\n",
    "    def _get_state(self, state, direction):\n",
    "\n",
    "        row_change = [-1,1,0,0]\n",
    "        col_change = [0,0,-1,1]\n",
    "        row_col = seq_to_col_row(state, self.num_cols)\n",
    "        row_col[0,0] += row_change[direction]\n",
    "        row_col[0,1] += col_change[direction]\n",
    "\n",
    "        # check for invalid states\n",
    "        if self.obs_states is not None:\n",
    "            if (np.any(row_col < 0) or\n",
    "                np.any(row_col[:,0] > self.num_rows-1) or\n",
    "                np.any(row_col[:,1] > self.num_cols-1) or\n",
    "                np.any(np.sum(abs(self.obs_states - row_col), 1)==0)):\n",
    "                next_state = state\n",
    "            else:\n",
    "                next_state = row_col_to_seq(row_col, self.num_cols)[0]\n",
    "        else:\n",
    "            if (np.any(row_col < 0) or\n",
    "                np.any(row_col[:,0] > self.num_rows-1) or\n",
    "                np.any(row_col[:,1] > self.num_cols-1)):\n",
    "                next_state = state\n",
    "            else:\n",
    "                next_state = row_col_to_seq(row_col, self.num_cols)[0]\n",
    "\n",
    "        return next_state\n",
    "\n",
    "    def reset(self):\n",
    "      return int(self.start_state_seq)\n",
    "\n",
    "    def step(self, state, action):\n",
    "        p, r = 0, np.random.random()\n",
    "        for next_state in range(self.num_states):\n",
    "\n",
    "            p += self.P[state, next_state, action]\n",
    "\n",
    "            if r <= p:\n",
    "                break\n",
    "\n",
    "        if(self.wind and np.random.random() < 0.4):\n",
    "\n",
    "          arr = self.P[next_state, :, 3]\n",
    "          next_next = np.where(arr == np.amax(arr))\n",
    "          next_next = next_next[0][0]\n",
    "          return next_next, self.R[next_next]\n",
    "        else:\n",
    "          return next_state, self.R[next_state]\n"
   ]
  },
  {
   "cell_type": "code",
   "execution_count": 3,
   "metadata": {
    "id": "4SDw_hA13bXa"
   },
   "outputs": [],
   "source": [
    "action_space = [0, 1, 2, 3]   #[UP, DOWN, LEFT, RIGHT]"
   ]
  },
  {
   "cell_type": "markdown",
   "metadata": {
    "id": "8k_dFMjNuiGq"
   },
   "source": [
    "### Exploration Strategies\n",
    " 1. Epsilon - greedy\n",
    " 2. Softmax"
   ]
  },
  {
   "cell_type": "code",
   "execution_count": 4,
   "metadata": {
    "id": "y-JlUkI_4ocR"
   },
   "outputs": [],
   "source": [
    "seed = 42\n",
    "rg = np.random.RandomState(seed)\n",
    "\n",
    "# Epsilon - greedy\n",
    "def choose_action_epsilon_greedy(Q, state, epsilon): #state must be an array of riw_index and column_index\n",
    "  if not Q[state[0], state[1]].any() or rg.rand() < epsilon:\n",
    "    return rg.choice(action_space, size = (1, ))[0]\n",
    "  else:\n",
    "    return np.argmax(Q[state[0], state[1]])\n",
    "\n",
    "# Softmax\n",
    "def choose_action_softmax(Q, state, tau):\n",
    "  p = [None for _ in range(len(action_space))]\n",
    "  for i in range(len(action_space)):\n",
    "    p[i] = min(np.exp((Q[state[0], state[1], i]) / tau),1000)\n",
    "  p /= np.sum(p)\n",
    "  return rg.choice(action_space, size = (1, ), p = p)[0]"
   ]
  },
  {
   "cell_type": "code",
   "execution_count": null,
   "metadata": {
    "id": "UsZP1Xqn8lUu"
   },
   "outputs": [],
   "source": []
  },
  {
   "cell_type": "markdown",
   "metadata": {
    "id": "8h7pXb4t4sXE"
   },
   "source": [
    "### SARSA Algorithm Definition\n"
   ]
  },
  {
   "cell_type": "code",
   "execution_count": 5,
   "metadata": {},
   "outputs": [],
   "source": [
    "def sarsa(gw, Q, tau0, epsilon0, alpha0, gamma0, episodes = 10000, choose_action = choose_action_softmax):\n",
    "\n",
    "  episode_rewards = np.zeros(episodes)\n",
    "  steps_to_completion = np.zeros(episodes)\n",
    "  state_visit_count = np.zeros((gw.num_rows, gw.num_cols))\n",
    "\n",
    "  parameter = tau0\n",
    "  alpha = alpha0\n",
    "  gamma = gamma0\n",
    "  if choose_action == choose_action_epsilon_greedy:\n",
    "    parameter = epsilon0\n",
    "\n",
    "  for ep in tqdm(range(episodes)):\n",
    "    tot_reward, steps = 0, 0\n",
    "\n",
    "    state = gw.reset()\n",
    "    state_rc = seq_to_col_row(state, gw.num_cols)\n",
    "    action = choose_action(Q, state_rc[0], parameter)\n",
    "    done = False\n",
    "    while not done:\n",
    "\n",
    "      if any(np.array_equal(state_rc[0], state) for state in gw.goal_states) or steps >= 100:\n",
    "        done = True\n",
    "        break\n",
    "\n",
    "      next_state, reward = gw.step(state, action)\n",
    "      next_state_rc = seq_to_col_row(next_state, gw.num_cols)\n",
    "\n",
    "      next_action = choose_action(Q, next_state_rc[0], parameter)\n",
    "      Q[state_rc[0][0], state_rc[0][1],  action] += alpha * (reward + gamma * Q[next_state_rc[0][0], next_state_rc[0][1], next_action] - Q[state_rc[0][0], state_rc[0][1],  action])\n",
    "\n",
    "      state_visit_count[state_rc[0][0], state_rc[0][1]] += 1\n",
    "      tot_reward += reward\n",
    "      steps += 1\n",
    "\n",
    "      state, state_rc, action = next_state, next_state_rc, next_action\n",
    "\n",
    "\n",
    "\n",
    "    episode_rewards[ep] = tot_reward\n",
    "    steps_to_completion[ep] = steps\n",
    "  return Q, episode_rewards, steps_to_completion"
   ]
  },
  {
   "cell_type": "code",
   "execution_count": 6,
   "metadata": {
    "id": "5o7lf26wGp-5"
   },
   "outputs": [],
   "source": [
    "# specify world parameters\n",
    "num_cols = 10\n",
    "num_rows = 10\n",
    "obstructions = np.array([[0,7],[1,1],[1,2],[1,3],[1,7],[2,1],[2,3],              #All obstruction states\n",
    "                         [2,7],[3,1],[3,3],[3,5],[4,3],[4,5],[4,7],\n",
    "                         [5,3],[5,7],[5,9],[6,3],[6,9],[7,1],[7,6],\n",
    "                         [7,7],[7,8],[7,9],[8,1],[8,5],[8,6],[9,1]])\n",
    "bad_states = np.array([[1,9],[4,2],[4,4],[7,5],[9,9]])                           #All bad states\n",
    "restart_states = np.array([[3,7],[8,2]])                                         #All restart states\n",
    "goal_states = np.array([[0,9],[2,2],[8,7]])"
   ]
  },
  {
   "cell_type": "code",
   "execution_count": 7,
   "metadata": {
    "id": "BSLT1peRGsDe"
   },
   "outputs": [],
   "source": [
    "start_state = np.array([[0, 4]])\n",
    "# create model\n",
    "gw = GridWorld(num_rows = num_rows, num_cols = num_cols, start_state = start_state, goal_states = goal_states, wind = False)\n",
    "gw.add_obstructions(obstructed_states = obstructions, bad_states = bad_states, restart_states = restart_states)\n",
    "gw.add_rewards(step_reward = - 1, goal_reward = 10, bad_state_reward = - 6, restart_state_reward = - 100)\n",
    "gw.add_transition_probability(p_good_transition = 1.0, bias = 0.5)\n",
    "env = gw.create_gridworld()"
   ]
  },
  {
   "cell_type": "code",
   "execution_count": 8,
   "metadata": {
    "colab": {
     "base_uri": "https://localhost:8080/"
    },
    "id": "iGWWNLaliRMN",
    "outputId": "2f0b710b-5c79-45c2-a157-0127c4b87cbc"
   },
   "outputs": [
    {
     "name": "stderr",
     "output_type": "stream",
     "text": [
      "  0%|                                                                                         | 0/5000 [00:00<?, ?it/s]C:\\Users\\kanni\\AppData\\Local\\Temp\\ipykernel_1880\\2297487967.py:180: DeprecationWarning: Conversion of an array with ndim > 0 to a scalar is deprecated, and will error in future. Ensure you extract a single element from your array before performing this operation. (Deprecated NumPy 1.25.)\n",
      "  return int(self.start_state_seq)\n",
      "C:\\Users\\kanni\\AppData\\Local\\Temp\\ipykernel_1880\\12305718.py:30: DeprecationWarning: Conversion of an array with ndim > 0 to a scalar is deprecated, and will error in future. Ensure you extract a single element from your array before performing this operation. (Deprecated NumPy 1.25.)\n",
      "  Q[state_rc[0][0], state_rc[0][1],  action] += alpha * (reward + gamma * Q[next_state_rc[0][0], next_state_rc[0][1], next_action] - Q[state_rc[0][0], state_rc[0][1],  action])\n",
      "C:\\Users\\kanni\\AppData\\Local\\Temp\\ipykernel_1880\\12305718.py:40: DeprecationWarning: Conversion of an array with ndim > 0 to a scalar is deprecated, and will error in future. Ensure you extract a single element from your array before performing this operation. (Deprecated NumPy 1.25.)\n",
      "  episode_rewards[ep] = tot_reward\n",
      "100%|██████████████████████████████████████████████████████████████████████████████| 5000/5000 [02:40<00:00, 31.06it/s]\n",
      "100%|██████████████████████████████████████████████████████████████████████████████| 5000/5000 [02:41<00:00, 31.02it/s]\n",
      "100%|██████████████████████████████████████████████████████████████████████████████| 5000/5000 [01:09<00:00, 72.32it/s]\n",
      "100%|██████████████████████████████████████████████████████████████████████████████| 5000/5000 [00:51<00:00, 97.61it/s]\n",
      "100%|██████████████████████████████████████████████████████████████████████████████| 5000/5000 [01:34<00:00, 52.99it/s]\n",
      "100%|█████████████████████████████████████████████████████████████████████████████| 5000/5000 [00:45<00:00, 109.64it/s]\n",
      "100%|█████████████████████████████████████████████████████████████████████████████| 5000/5000 [00:25<00:00, 196.74it/s]\n",
      "100%|██████████████████████████████████████████████████████████████████████████████| 5000/5000 [01:42<00:00, 48.70it/s]\n",
      "100%|█████████████████████████████████████████████████████████████████████████████| 5000/5000 [00:40<00:00, 124.62it/s]\n",
      "100%|█████████████████████████████████████████████████████████████████████████████| 5000/5000 [00:22<00:00, 218.17it/s]\n",
      "100%|██████████████████████████████████████████████████████████████████████████████| 5000/5000 [01:39<00:00, 50.35it/s]\n",
      "100%|█████████████████████████████████████████████████████████████████████████████| 5000/5000 [00:42<00:00, 117.50it/s]\n",
      "100%|█████████████████████████████████████████████████████████████████████████████| 5000/5000 [00:26<00:00, 192.05it/s]\n",
      "100%|██████████████████████████████████████████████████████████████████████████████| 5000/5000 [02:30<00:00, 33.15it/s]\n",
      "100%|██████████████████████████████████████████████████████████████████████████████| 5000/5000 [02:04<00:00, 40.29it/s]\n",
      "100%|██████████████████████████████████████████████████████████████████████████████| 5000/5000 [01:20<00:00, 62.43it/s]\n",
      "100%|██████████████████████████████████████████████████████████████████████████████| 5000/5000 [02:09<00:00, 38.68it/s]\n",
      "100%|██████████████████████████████████████████████████████████████████████████████| 5000/5000 [01:32<00:00, 54.00it/s]\n",
      "100%|█████████████████████████████████████████████████████████████████████████████| 5000/5000 [00:43<00:00, 114.51it/s]\n",
      "100%|██████████████████████████████████████████████████████████████████████████████| 5000/5000 [02:09<00:00, 38.57it/s]\n",
      "100%|██████████████████████████████████████████████████████████████████████████████| 5000/5000 [01:30<00:00, 55.00it/s]\n",
      "100%|█████████████████████████████████████████████████████████████████████████████| 5000/5000 [00:39<00:00, 125.34it/s]\n",
      "100%|██████████████████████████████████████████████████████████████████████████████| 5000/5000 [02:08<00:00, 38.76it/s]\n",
      "100%|██████████████████████████████████████████████████████████████████████████████| 5000/5000 [01:29<00:00, 56.01it/s]\n",
      "100%|█████████████████████████████████████████████████████████████████████████████| 5000/5000 [00:41<00:00, 119.64it/s]\n",
      "100%|██████████████████████████████████████████████████████████████████████████████| 5000/5000 [02:25<00:00, 34.47it/s]\n",
      "100%|██████████████████████████████████████████████████████████████████████████████| 5000/5000 [02:21<00:00, 35.44it/s]\n",
      "100%|██████████████████████████████████████████████████████████████████████████████| 5000/5000 [01:56<00:00, 43.05it/s]\n",
      "100%|██████████████████████████████████████████████████████████████████████████████| 5000/5000 [02:17<00:00, 36.34it/s]\n",
      "100%|██████████████████████████████████████████████████████████████████████████████| 5000/5000 [02:05<00:00, 39.91it/s]\n",
      "100%|██████████████████████████████████████████████████████████████████████████████| 5000/5000 [01:26<00:00, 57.55it/s]\n",
      "100%|██████████████████████████████████████████████████████████████████████████████| 5000/5000 [02:51<00:00, 29.17it/s]\n",
      "100%|██████████████████████████████████████████████████████████████████████████████| 5000/5000 [02:27<00:00, 33.79it/s]\n",
      "100%|██████████████████████████████████████████████████████████████████████████████| 5000/5000 [01:04<00:00, 77.64it/s]\n",
      "100%|██████████████████████████████████████████████████████████████████████████████| 5000/5000 [02:35<00:00, 32.08it/s]\n",
      "100%|██████████████████████████████████████████████████████████████████████████████| 5000/5000 [02:22<00:00, 35.16it/s]\n",
      "100%|██████████████████████████████████████████████████████████████████████████████| 5000/5000 [01:03<00:00, 78.87it/s]\n",
      "100%|██████████████████████████████████████████████████████████████████████████████| 5000/5000 [02:42<00:00, 30.80it/s]\n",
      "100%|██████████████████████████████████████████████████████████████████████████████| 5000/5000 [02:44<00:00, 30.44it/s]\n",
      "100%|██████████████████████████████████████████████████████████████████████████████| 5000/5000 [02:33<00:00, 32.49it/s]\n",
      "100%|██████████████████████████████████████████████████████████████████████████████| 5000/5000 [02:43<00:00, 30.52it/s]\n",
      "100%|██████████████████████████████████████████████████████████████████████████████| 5000/5000 [02:44<00:00, 30.41it/s]\n",
      "100%|██████████████████████████████████████████████████████████████████████████████| 5000/5000 [02:55<00:00, 28.53it/s]\n",
      "100%|██████████████████████████████████████████████████████████████████████████████| 5000/5000 [02:39<00:00, 31.33it/s]\n",
      "100%|██████████████████████████████████████████████████████████████████████████████| 5000/5000 [01:30<00:00, 55.17it/s]"
     ]
    },
    {
     "name": "stdout",
     "output_type": "stream",
     "text": [
      "1.0 0.1 1.0 -11.5958\n"
     ]
    },
    {
     "name": "stderr",
     "output_type": "stream",
     "text": [
      "\n"
     ]
    }
   ],
   "source": [
    "start_state = np.array([[0, 4]])\n",
    "alpha_list = [0.01, 0.05, 0.1, 0.2]\n",
    "gamma_list = [0.8, 0.9, 1.0]\n",
    "tau_list = [1.0, 2.0, 4.0, 10.0]\n",
    "epsilon_list = [0.01, 0.05, 0.1]\n",
    "\n",
    "store_tau = []\n",
    "#store_epsilon = []\n",
    "\n",
    "#For Soft Max\n",
    "best_tau, best_tau_alpha, best_tau_gamma = tau_list[0], alpha_list[0], gamma_list[0]\n",
    "\n",
    "Q = np.zeros((gw.num_rows, gw.num_cols, len(action_space)))\n",
    "\n",
    "Q, rewards, steps = sarsa(gw, Q, best_tau, epsilon_list[0], best_tau_alpha, best_tau_gamma, episodes = 5000)\n",
    "best_tau_reward = np.mean(rewards)\n",
    "for tau in tau_list:\n",
    "  for alpha in alpha_list:\n",
    "    for gamma in gamma_list:\n",
    "      Q = np.zeros((gw.num_rows, gw.num_cols, len(action_space)))\n",
    "      Q, rewards, steps = sarsa(gw, Q, tau, epsilon_list[0], alpha, gamma, episodes = 5000)\n",
    "      store_tau.append({\"tau\" : tau, \"alpha\" : alpha, \"gamma\" : gamma, \"reward\" : np.mean(rewards)})\n",
    "      if np.mean(rewards) > best_tau_reward:\n",
    "        best_tau = tau\n",
    "        best_tau_reward = np.mean(rewards)\n",
    "        best_tau_alpha = alpha\n",
    "        best_tau_gamma = gamma\n",
    "          \n",
    "print(best_tau, best_tau_alpha, best_tau_gamma, best_tau_reward)"
   ]
  },
  {
   "cell_type": "code",
   "execution_count": 9,
   "metadata": {
    "id": "2EmPcxFmgQBH"
   },
   "outputs": [
    {
     "name": "stderr",
     "output_type": "stream",
     "text": [
      "  0%|                                                                                         | 0/5000 [00:00<?, ?it/s]C:\\Users\\kanni\\AppData\\Local\\Temp\\ipykernel_1880\\2297487967.py:180: DeprecationWarning: Conversion of an array with ndim > 0 to a scalar is deprecated, and will error in future. Ensure you extract a single element from your array before performing this operation. (Deprecated NumPy 1.25.)\n",
      "  return int(self.start_state_seq)\n",
      "C:\\Users\\kanni\\AppData\\Local\\Temp\\ipykernel_1880\\12305718.py:30: DeprecationWarning: Conversion of an array with ndim > 0 to a scalar is deprecated, and will error in future. Ensure you extract a single element from your array before performing this operation. (Deprecated NumPy 1.25.)\n",
      "  Q[state_rc[0][0], state_rc[0][1],  action] += alpha * (reward + gamma * Q[next_state_rc[0][0], next_state_rc[0][1], next_action] - Q[state_rc[0][0], state_rc[0][1],  action])\n",
      "C:\\Users\\kanni\\AppData\\Local\\Temp\\ipykernel_1880\\12305718.py:40: DeprecationWarning: Conversion of an array with ndim > 0 to a scalar is deprecated, and will error in future. Ensure you extract a single element from your array before performing this operation. (Deprecated NumPy 1.25.)\n",
      "  episode_rewards[ep] = tot_reward\n",
      "100%|█████████████████████████████████████████████████████████████████████████████| 5000/5000 [00:33<00:00, 149.92it/s]\n",
      "100%|█████████████████████████████████████████████████████████████████████████████| 5000/5000 [00:30<00:00, 162.79it/s]\n",
      "100%|█████████████████████████████████████████████████████████████████████████████| 5000/5000 [00:27<00:00, 178.71it/s]\n",
      "100%|█████████████████████████████████████████████████████████████████████████████| 5000/5000 [00:23<00:00, 215.33it/s]\n",
      "100%|█████████████████████████████████████████████████████████████████████████████| 5000/5000 [00:13<00:00, 375.48it/s]\n",
      "100%|█████████████████████████████████████████████████████████████████████████████| 5000/5000 [00:11<00:00, 424.32it/s]\n",
      "100%|█████████████████████████████████████████████████████████████████████████████| 5000/5000 [00:11<00:00, 430.30it/s]\n",
      "100%|█████████████████████████████████████████████████████████████████████████████| 5000/5000 [00:10<00:00, 464.81it/s]\n",
      "100%|█████████████████████████████████████████████████████████████████████████████| 5000/5000 [00:09<00:00, 504.60it/s]\n",
      "100%|█████████████████████████████████████████████████████████████████████████████| 5000/5000 [00:10<00:00, 485.38it/s]\n",
      "100%|█████████████████████████████████████████████████████████████████████████████| 5000/5000 [00:11<00:00, 431.67it/s]\n",
      "100%|█████████████████████████████████████████████████████████████████████████████| 5000/5000 [00:10<00:00, 485.32it/s]\n",
      "100%|█████████████████████████████████████████████████████████████████████████████| 5000/5000 [00:09<00:00, 531.38it/s]\n",
      "100%|█████████████████████████████████████████████████████████████████████████████| 5000/5000 [00:29<00:00, 170.72it/s]\n",
      "100%|█████████████████████████████████████████████████████████████████████████████| 5000/5000 [00:23<00:00, 215.02it/s]\n",
      "100%|█████████████████████████████████████████████████████████████████████████████| 5000/5000 [00:18<00:00, 264.63it/s]\n",
      "100%|█████████████████████████████████████████████████████████████████████████████| 5000/5000 [00:11<00:00, 449.57it/s]\n",
      "100%|█████████████████████████████████████████████████████████████████████████████| 5000/5000 [00:10<00:00, 475.91it/s]\n",
      "100%|█████████████████████████████████████████████████████████████████████████████| 5000/5000 [00:11<00:00, 417.34it/s]\n",
      "100%|█████████████████████████████████████████████████████████████████████████████| 5000/5000 [00:10<00:00, 481.79it/s]\n",
      "100%|█████████████████████████████████████████████████████████████████████████████| 5000/5000 [00:10<00:00, 476.97it/s]\n",
      "100%|█████████████████████████████████████████████████████████████████████████████| 5000/5000 [00:08<00:00, 557.88it/s]\n",
      "100%|█████████████████████████████████████████████████████████████████████████████| 5000/5000 [00:08<00:00, 562.56it/s]\n",
      "100%|█████████████████████████████████████████████████████████████████████████████| 5000/5000 [00:08<00:00, 607.52it/s]\n",
      "100%|█████████████████████████████████████████████████████████████████████████████| 5000/5000 [00:08<00:00, 605.84it/s]\n",
      "100%|█████████████████████████████████████████████████████████████████████████████| 5000/5000 [00:21<00:00, 228.55it/s]\n",
      "100%|█████████████████████████████████████████████████████████████████████████████| 5000/5000 [00:19<00:00, 252.38it/s]\n",
      "100%|█████████████████████████████████████████████████████████████████████████████| 5000/5000 [00:18<00:00, 277.71it/s]\n",
      "100%|█████████████████████████████████████████████████████████████████████████████| 5000/5000 [00:11<00:00, 439.92it/s]\n",
      "100%|█████████████████████████████████████████████████████████████████████████████| 5000/5000 [00:10<00:00, 467.01it/s]\n",
      "100%|█████████████████████████████████████████████████████████████████████████████| 5000/5000 [00:10<00:00, 488.40it/s]\n",
      "100%|█████████████████████████████████████████████████████████████████████████████| 5000/5000 [00:10<00:00, 464.18it/s]\n",
      "100%|█████████████████████████████████████████████████████████████████████████████| 5000/5000 [00:10<00:00, 493.53it/s]\n",
      "100%|█████████████████████████████████████████████████████████████████████████████| 5000/5000 [00:09<00:00, 506.65it/s]\n",
      "100%|█████████████████████████████████████████████████████████████████████████████| 5000/5000 [00:10<00:00, 472.67it/s]\n",
      "100%|█████████████████████████████████████████████████████████████████████████████| 5000/5000 [00:09<00:00, 549.10it/s]\n",
      "100%|█████████████████████████████████████████████████████████████████████████████| 5000/5000 [00:08<00:00, 566.90it/s]"
     ]
    },
    {
     "name": "stdout",
     "output_type": "stream",
     "text": [
      "0.01 0.2 1.0 -7.3432\n"
     ]
    },
    {
     "name": "stderr",
     "output_type": "stream",
     "text": [
      "\n"
     ]
    }
   ],
   "source": [
    "start_state = np.array([[0, 4]])\n",
    "alpha_list = [0.01, 0.05, 0.1, 0.2]\n",
    "gamma_list = [0.8, 0.9, 1.0]\n",
    "tau_list = [1.0, 2.0, 4.0, 10.0]\n",
    "epsilon_list = [0.01, 0.05, 0.1]\n",
    "\n",
    "#store_tau = []\n",
    "store_epsilon = []\n",
    "\n",
    "# For Epsilon Greedy\n",
    "best_epsilon, best_epsilon_alpha, best_epsilon_gamma = epsilon_list[0], alpha_list[0], gamma_list[0]\n",
    "\n",
    "Q = np.zeros((gw.num_rows, gw.num_cols, len(action_space)))\n",
    "\n",
    "Q, rewards, steps = sarsa(gw, Q, tau_list[0], best_epsilon, best_epsilon_alpha, best_epsilon_gamma, episodes = 5000, choose_action = choose_action_epsilon_greedy)\n",
    "best_epsilon_reward = np.mean(rewards)\n",
    "for epsilon in epsilon_list:\n",
    "  for alpha in alpha_list:\n",
    "    for gamma in gamma_list:\n",
    "      Q = np.zeros((gw.num_rows, gw.num_cols, len(action_space)))\n",
    "      Q, rewards, steps = sarsa(gw, Q, tau_list[0], epsilon, alpha, gamma, episodes = 5000, choose_action = choose_action_epsilon_greedy)\n",
    "      store_epsilon.append({\"epsilon\" : epsilon, \"alpha\" : alpha, \"gamma\" : gamma, \"reward\" : np.mean(rewards)})\n",
    "      if np.mean(rewards) > best_epsilon_reward:\n",
    "        best_epsilon = epsilon\n",
    "        best_epsilon_reward = np.mean(rewards)\n",
    "        best_epsilon_alpha = alpha\n",
    "        best_epsilon_gamma = gamma\n",
    "          \n",
    "print(best_epsilon, best_epsilon_alpha, best_epsilon_gamma, best_epsilon_reward)"
   ]
  },
  {
   "cell_type": "code",
   "execution_count": 10,
   "metadata": {},
   "outputs": [
    {
     "name": "stdout",
     "output_type": "stream",
     "text": [
      "[{'tau': 1.0, 'alpha': 0.01, 'gamma': 0.8, 'reward': -89.4014}, {'tau': 1.0, 'alpha': 0.01, 'gamma': 0.9, 'reward': -57.1042}, {'tau': 1.0, 'alpha': 0.01, 'gamma': 1.0, 'reward': -39.6796}, {'tau': 1.0, 'alpha': 0.05, 'gamma': 0.8, 'reward': -72.4492}, {'tau': 1.0, 'alpha': 0.05, 'gamma': 0.9, 'reward': -24.5676}, {'tau': 1.0, 'alpha': 0.05, 'gamma': 1.0, 'reward': -13.7856}, {'tau': 1.0, 'alpha': 0.1, 'gamma': 0.8, 'reward': -71.4318}, {'tau': 1.0, 'alpha': 0.1, 'gamma': 0.9, 'reward': -21.9352}, {'tau': 1.0, 'alpha': 0.1, 'gamma': 1.0, 'reward': -11.5958}, {'tau': 1.0, 'alpha': 0.2, 'gamma': 0.8, 'reward': -71.1458}, {'tau': 1.0, 'alpha': 0.2, 'gamma': 0.9, 'reward': -20.9806}, {'tau': 1.0, 'alpha': 0.2, 'gamma': 1.0, 'reward': -12.456}, {'tau': 2.0, 'alpha': 0.01, 'gamma': 0.8, 'reward': -97.4102}, {'tau': 2.0, 'alpha': 0.01, 'gamma': 0.9, 'reward': -82.8672}, {'tau': 2.0, 'alpha': 0.01, 'gamma': 1.0, 'reward': -52.7338}, {'tau': 2.0, 'alpha': 0.05, 'gamma': 0.8, 'reward': -88.0322}, {'tau': 2.0, 'alpha': 0.05, 'gamma': 0.9, 'reward': -57.6048}, {'tau': 2.0, 'alpha': 0.05, 'gamma': 1.0, 'reward': -23.4324}, {'tau': 2.0, 'alpha': 0.1, 'gamma': 0.8, 'reward': -87.2786}, {'tau': 2.0, 'alpha': 0.1, 'gamma': 0.9, 'reward': -55.4866}, {'tau': 2.0, 'alpha': 0.1, 'gamma': 1.0, 'reward': -20.0442}, {'tau': 2.0, 'alpha': 0.2, 'gamma': 0.8, 'reward': -85.4488}, {'tau': 2.0, 'alpha': 0.2, 'gamma': 0.9, 'reward': -53.4756}, {'tau': 2.0, 'alpha': 0.2, 'gamma': 1.0, 'reward': -18.035}, {'tau': 4.0, 'alpha': 0.01, 'gamma': 0.8, 'reward': -102.441}, {'tau': 4.0, 'alpha': 0.01, 'gamma': 0.9, 'reward': -98.9826}, {'tau': 4.0, 'alpha': 0.01, 'gamma': 1.0, 'reward': -79.0988}, {'tau': 4.0, 'alpha': 0.05, 'gamma': 0.8, 'reward': -96.2376}, {'tau': 4.0, 'alpha': 0.05, 'gamma': 0.9, 'reward': -87.7098}, {'tau': 4.0, 'alpha': 0.05, 'gamma': 1.0, 'reward': -39.2036}, {'tau': 4.0, 'alpha': 0.1, 'gamma': 0.8, 'reward': -94.8196}, {'tau': 4.0, 'alpha': 0.1, 'gamma': 0.9, 'reward': -85.1716}, {'tau': 4.0, 'alpha': 0.1, 'gamma': 1.0, 'reward': -34.1508}, {'tau': 4.0, 'alpha': 0.2, 'gamma': 0.8, 'reward': -94.484}, {'tau': 4.0, 'alpha': 0.2, 'gamma': 0.9, 'reward': -84.7502}, {'tau': 4.0, 'alpha': 0.2, 'gamma': 1.0, 'reward': -31.1678}, {'tau': 10.0, 'alpha': 0.01, 'gamma': 0.8, 'reward': -110.1598}, {'tau': 10.0, 'alpha': 0.01, 'gamma': 0.9, 'reward': -109.8952}, {'tau': 10.0, 'alpha': 0.01, 'gamma': 1.0, 'reward': -105.9074}, {'tau': 10.0, 'alpha': 0.05, 'gamma': 0.8, 'reward': -104.1528}, {'tau': 10.0, 'alpha': 0.05, 'gamma': 0.9, 'reward': -102.0328}, {'tau': 10.0, 'alpha': 0.05, 'gamma': 1.0, 'reward': -68.6506}, {'tau': 10.0, 'alpha': 0.1, 'gamma': 0.8, 'reward': -103.022}, {'tau': 10.0, 'alpha': 0.1, 'gamma': 0.9, 'reward': -100.0306}, {'tau': 10.0, 'alpha': 0.1, 'gamma': 1.0, 'reward': -60.3094}, {'tau': 10.0, 'alpha': 0.2, 'gamma': 0.8, 'reward': -102.5716}, {'tau': 10.0, 'alpha': 0.2, 'gamma': 0.9, 'reward': -99.8626}, {'tau': 10.0, 'alpha': 0.2, 'gamma': 1.0, 'reward': -56.0932}]\n"
     ]
    }
   ],
   "source": [
    "print(store_tau)"
   ]
  },
  {
   "cell_type": "code",
   "execution_count": 11,
   "metadata": {},
   "outputs": [
    {
     "name": "stdout",
     "output_type": "stream",
     "text": [
      "[{'epsilon': 0.01, 'alpha': 0.01, 'gamma': 0.8, 'reward': -28.516}, {'epsilon': 0.01, 'alpha': 0.01, 'gamma': 0.9, 'reward': -24.9694}, {'epsilon': 0.01, 'alpha': 0.01, 'gamma': 1.0, 'reward': -23.278}, {'epsilon': 0.01, 'alpha': 0.05, 'gamma': 0.8, 'reward': -11.2938}, {'epsilon': 0.01, 'alpha': 0.05, 'gamma': 0.9, 'reward': -10.219}, {'epsilon': 0.01, 'alpha': 0.05, 'gamma': 1.0, 'reward': -9.8304}, {'epsilon': 0.01, 'alpha': 0.1, 'gamma': 0.8, 'reward': -8.968}, {'epsilon': 0.01, 'alpha': 0.1, 'gamma': 0.9, 'reward': -8.4098}, {'epsilon': 0.01, 'alpha': 0.1, 'gamma': 1.0, 'reward': -8.154}, {'epsilon': 0.01, 'alpha': 0.2, 'gamma': 0.8, 'reward': -7.8524}, {'epsilon': 0.01, 'alpha': 0.2, 'gamma': 0.9, 'reward': -7.5528}, {'epsilon': 0.01, 'alpha': 0.2, 'gamma': 1.0, 'reward': -7.3432}, {'epsilon': 0.05, 'alpha': 0.01, 'gamma': 0.8, 'reward': -32.4196}, {'epsilon': 0.05, 'alpha': 0.01, 'gamma': 0.9, 'reward': -27.9358}, {'epsilon': 0.05, 'alpha': 0.01, 'gamma': 1.0, 'reward': -25.373}, {'epsilon': 0.05, 'alpha': 0.05, 'gamma': 0.8, 'reward': -12.6002}, {'epsilon': 0.05, 'alpha': 0.05, 'gamma': 0.9, 'reward': -11.4596}, {'epsilon': 0.05, 'alpha': 0.05, 'gamma': 1.0, 'reward': -10.9058}, {'epsilon': 0.05, 'alpha': 0.1, 'gamma': 0.8, 'reward': -9.8402}, {'epsilon': 0.05, 'alpha': 0.1, 'gamma': 0.9, 'reward': -9.3408}, {'epsilon': 0.05, 'alpha': 0.1, 'gamma': 1.0, 'reward': -9.1108}, {'epsilon': 0.05, 'alpha': 0.2, 'gamma': 0.8, 'reward': -8.9118}, {'epsilon': 0.05, 'alpha': 0.2, 'gamma': 0.9, 'reward': -8.3096}, {'epsilon': 0.05, 'alpha': 0.2, 'gamma': 1.0, 'reward': -8.2672}, {'epsilon': 0.1, 'alpha': 0.01, 'gamma': 0.8, 'reward': -34.0824}, {'epsilon': 0.1, 'alpha': 0.01, 'gamma': 0.9, 'reward': -30.2638}, {'epsilon': 0.1, 'alpha': 0.01, 'gamma': 1.0, 'reward': -27.3464}, {'epsilon': 0.1, 'alpha': 0.05, 'gamma': 0.8, 'reward': -13.9894}, {'epsilon': 0.1, 'alpha': 0.05, 'gamma': 0.9, 'reward': -12.5998}, {'epsilon': 0.1, 'alpha': 0.05, 'gamma': 1.0, 'reward': -12.12}, {'epsilon': 0.1, 'alpha': 0.1, 'gamma': 0.8, 'reward': -11.082}, {'epsilon': 0.1, 'alpha': 0.1, 'gamma': 0.9, 'reward': -10.576}, {'epsilon': 0.1, 'alpha': 0.1, 'gamma': 1.0, 'reward': -10.0794}, {'epsilon': 0.1, 'alpha': 0.2, 'gamma': 0.8, 'reward': -11.509}, {'epsilon': 0.1, 'alpha': 0.2, 'gamma': 0.9, 'reward': -9.7736}, {'epsilon': 0.1, 'alpha': 0.2, 'gamma': 1.0, 'reward': -9.4552}]\n"
     ]
    }
   ],
   "source": [
    "print(store_epsilon)"
   ]
  },
  {
   "cell_type": "code",
   "execution_count": 12,
   "metadata": {},
   "outputs": [],
   "source": [
    "epsilon_store = [None for _ in range(len(store_epsilon))]\n",
    "alpha_epsilon_store = [None for _ in range(len(store_epsilon))]\n",
    "gamma_epsilon_store = [None for _ in range(len(store_epsilon))]\n",
    "reward_epsilon_store = [None for _ in range(len(store_epsilon))]\n",
    "for i in range(len(store_epsilon)):\n",
    "    epsilon_store[i] = store_epsilon[i]['epsilon']\n",
    "    alpha_epsilon_store[i] = store_epsilon[i]['alpha']\n",
    "    gamma_epsilon_store[i] = store_epsilon[i]['gamma']\n",
    "    reward_epsilon_store[i] = store_epsilon[i]['reward']"
   ]
  },
  {
   "cell_type": "code",
   "execution_count": 13,
   "metadata": {},
   "outputs": [],
   "source": [
    "import pandas as pd"
   ]
  },
  {
   "cell_type": "code",
   "execution_count": 14,
   "metadata": {},
   "outputs": [],
   "source": [
    "EXP_1_epsilon = pd.DataFrame({'Epsilon' : epsilon_store, 'Alpha' : alpha_epsilon_store, 'Gamma' : gamma_epsilon_store, 'Reward' : reward_epsilon_store})\n",
    "EXP_1_epsilon.to_csv(\"EXP_1_epsilon.csv\", index = False)"
   ]
  },
  {
   "cell_type": "code",
   "execution_count": 15,
   "metadata": {},
   "outputs": [],
   "source": [
    "tau_store = [None for _ in range(len(store_tau))]\n",
    "alpha_tau_store = [None for _ in range(len(store_tau))]\n",
    "gamma_tau_store = [None for _ in range(len(store_tau))]\n",
    "reward_tau_store = [None for _ in range(len(store_tau))]\n",
    "for i in range(len(store_tau)):\n",
    "    tau_store[i] = store_tau[i]['tau']\n",
    "    alpha_tau_store[i] = store_tau[i]['alpha']\n",
    "    gamma_tau_store[i] = store_tau[i]['gamma']\n",
    "    reward_tau_store[i] = store_tau[i]['reward']"
   ]
  },
  {
   "cell_type": "code",
   "execution_count": 16,
   "metadata": {},
   "outputs": [],
   "source": [
    "EXP_1_tau = pd.DataFrame({'Tau' : tau_store, 'Alpha' : alpha_tau_store, 'Gamma' : gamma_tau_store, 'Reward' : reward_tau_store})\n",
    "EXP_1_tau.to_csv(\"EXP_1_tau.csv\", index = False)"
   ]
  }
 ],
 "metadata": {
  "colab": {
   "provenance": []
  },
  "kernelspec": {
   "display_name": "Python 3 (ipykernel)",
   "language": "python",
   "name": "python3"
  },
  "language_info": {
   "codemirror_mode": {
    "name": "ipython",
    "version": 3
   },
   "file_extension": ".py",
   "mimetype": "text/x-python",
   "name": "python",
   "nbconvert_exporter": "python",
   "pygments_lexer": "ipython3",
   "version": "3.10.5"
  }
 },
 "nbformat": 4,
 "nbformat_minor": 4
}
